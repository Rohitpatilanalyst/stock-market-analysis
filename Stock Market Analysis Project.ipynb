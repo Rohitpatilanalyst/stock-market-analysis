{
 "cells": [
  {
   "cell_type": "markdown",
   "metadata": {},
   "source": [
    "___\n",
    "\n",
    "<a href='http://www.pieriandata.com'> <img src='../Pierian_Data_Logo.png' /></a>\n",
    "___\n",
    "<center>*Copyright Pierian Data 2017*</center>\n",
    "<center>*For more information, visit us at www.pieriandata.com*</center>"
   ]
  },
  {
   "cell_type": "markdown",
   "metadata": {},
   "source": [
    "# Stock Market Analysis Project\n",
    "\n",
    "### Please Note: You are free to treat this as a full exercise, or just view the solutions video as a code along project. This project is meant to be pretty challenging as it will introduce a few new concepts through some hints!\n",
    "\n",
    "Welcome to your first capstone project! This project is meant to cap off the first half of the course, which mainly dealt with learning the libraries that we use in this course, the second half of the course will deal a lot more with quantitative trading techniques and platforms.\n",
    "\n",
    "We'll be analyzing stock data related to a few car companies, from Jan 1 2012 to Jan 1 2017. Keep in mind that this project is mainly just to practice your skills with matplotlib, pandas, and numpy. Don't infer financial trading advice from the analysis we do here!\n",
    "\n",
    "### Part 0: Import\n",
    "\n",
    "** Import the various libraries you will need-you can always just come back up here or import as you go along :) **"
   ]
  },
  {
   "cell_type": "code",
   "execution_count": 1,
   "metadata": {},
   "outputs": [],
   "source": [
    "import numpy as np\n",
    "import pandas as pd\n",
    "import matplotlib.pyplot as plt\n",
    "%matplotlib inline"
   ]
  },
  {
   "cell_type": "markdown",
   "metadata": {},
   "source": [
    "____\n",
    "## Part 1: Getting the Data\n",
    "\n",
    "### Tesla Stock (Ticker: TSLA on the NASDAQ)\n",
    "\n",
    "**  *Note! Not everyone will be working on a computer that will give them open access to download the stock information using pandas_datareader (firewalls, admin permissions, etc...). Because of this, the csv file for the Tesla is provided in a data folder inside this folder. It is called Tesla_Stock.csv. Feel free to just use this with read_csv! **\n",
    "\n",
    "** Use pandas_datareader to obtain the historical stock information for Tesla from Jan 1, 2012 to Jan 1, 2017.**\n",
    "\n"
   ]
  },
  {
   "cell_type": "code",
   "execution_count": 143,
   "metadata": {},
   "outputs": [],
   "source": [
    "# CSV files is used since Google Finance does not provide full data.\n",
    "tesla_stock = pd.read_csv('D:/DX/2017.csv')"
   ]
  },
  {
   "cell_type": "code",
   "execution_count": 144,
   "metadata": {},
   "outputs": [
    {
     "data": {
      "text/html": [
       "<div>\n",
       "<style scoped>\n",
       "    .dataframe tbody tr th:only-of-type {\n",
       "        vertical-align: middle;\n",
       "    }\n",
       "\n",
       "    .dataframe tbody tr th {\n",
       "        vertical-align: top;\n",
       "    }\n",
       "\n",
       "    .dataframe thead th {\n",
       "        text-align: right;\n",
       "    }\n",
       "</style>\n",
       "<table border=\"1\" class=\"dataframe\">\n",
       "  <thead>\n",
       "    <tr style=\"text-align: right;\">\n",
       "      <th></th>\n",
       "      <th>Country</th>\n",
       "      <th>GDP</th>\n",
       "      <th>GDP capita</th>\n",
       "      <th>Imports</th>\n",
       "      <th>Exports</th>\n",
       "    </tr>\n",
       "  </thead>\n",
       "  <tbody>\n",
       "    <tr>\n",
       "      <th>0</th>\n",
       "      <td>Austria</td>\n",
       "      <td>369899.2</td>\n",
       "      <td>37200.0</td>\n",
       "      <td>187327.0</td>\n",
       "      <td>198758.3</td>\n",
       "    </tr>\n",
       "    <tr>\n",
       "      <th>1</th>\n",
       "      <td>Belgium</td>\n",
       "      <td>439051.9</td>\n",
       "      <td>35000.0</td>\n",
       "      <td>371514.0</td>\n",
       "      <td>376628.0</td>\n",
       "    </tr>\n",
       "    <tr>\n",
       "      <th>2</th>\n",
       "      <td>Bulgaria</td>\n",
       "      <td>51663.0</td>\n",
       "      <td>6300.0</td>\n",
       "      <td>32912.9</td>\n",
       "      <td>34804.8</td>\n",
       "    </tr>\n",
       "    <tr>\n",
       "      <th>3</th>\n",
       "      <td>Croatia</td>\n",
       "      <td>48989.5</td>\n",
       "      <td>11500.0</td>\n",
       "      <td>23925.8</td>\n",
       "      <td>25026.9</td>\n",
       "    </tr>\n",
       "  </tbody>\n",
       "</table>\n",
       "</div>"
      ],
      "text/plain": [
       "    Country       GDP  GDP capita   Imports   Exports\n",
       "0   Austria  369899.2     37200.0  187327.0  198758.3\n",
       "1   Belgium  439051.9     35000.0  371514.0  376628.0\n",
       "2  Bulgaria   51663.0      6300.0   32912.9   34804.8\n",
       "3   Croatia   48989.5     11500.0   23925.8   25026.9"
      ]
     },
     "execution_count": 144,
     "metadata": {},
     "output_type": "execute_result"
    }
   ],
   "source": [
    "tesla_stock.head()"
   ]
  },
  {
   "cell_type": "markdown",
   "metadata": {},
   "source": [
    "### Other Countries**"
   ]
  },
  {
   "cell_type": "code",
   "execution_count": 145,
   "metadata": {},
   "outputs": [],
   "source": [
    "finance = pd.read_csv('D:/DX/2016.csv')"
   ]
  },
  {
   "cell_type": "code",
   "execution_count": 146,
   "metadata": {},
   "outputs": [
    {
     "data": {
      "text/html": [
       "<div>\n",
       "<style scoped>\n",
       "    .dataframe tbody tr th:only-of-type {\n",
       "        vertical-align: middle;\n",
       "    }\n",
       "\n",
       "    .dataframe tbody tr th {\n",
       "        vertical-align: top;\n",
       "    }\n",
       "\n",
       "    .dataframe thead th {\n",
       "        text-align: right;\n",
       "    }\n",
       "</style>\n",
       "<table border=\"1\" class=\"dataframe\">\n",
       "  <thead>\n",
       "    <tr style=\"text-align: right;\">\n",
       "      <th></th>\n",
       "      <th>Country</th>\n",
       "      <th>GDP</th>\n",
       "      <th>GDP_capita</th>\n",
       "      <th>Imports</th>\n",
       "      <th>Exports</th>\n",
       "    </tr>\n",
       "  </thead>\n",
       "  <tbody>\n",
       "    <tr>\n",
       "      <th>0</th>\n",
       "      <td>Austria</td>\n",
       "      <td>356237.6</td>\n",
       "      <td>36500.0</td>\n",
       "      <td>173343.2</td>\n",
       "      <td>186464.0</td>\n",
       "    </tr>\n",
       "    <tr>\n",
       "      <th>1</th>\n",
       "      <td>Belgium</td>\n",
       "      <td>424660.3</td>\n",
       "      <td>34500.0</td>\n",
       "      <td>345647.0</td>\n",
       "      <td>351287.0</td>\n",
       "    </tr>\n",
       "    <tr>\n",
       "      <th>2</th>\n",
       "      <td>Bulgaria</td>\n",
       "      <td>48128.6</td>\n",
       "      <td>6000.0</td>\n",
       "      <td>28716.0</td>\n",
       "      <td>30792.0</td>\n",
       "    </tr>\n",
       "    <tr>\n",
       "      <th>3</th>\n",
       "      <td>Croatia</td>\n",
       "      <td>46639.5</td>\n",
       "      <td>11100.0</td>\n",
       "      <td>21432.4</td>\n",
       "      <td>22731.8</td>\n",
       "    </tr>\n",
       "  </tbody>\n",
       "</table>\n",
       "</div>"
      ],
      "text/plain": [
       "    Country       GDP  GDP_capita   Imports   Exports\n",
       "0   Austria  356237.6     36500.0  173343.2  186464.0\n",
       "1   Belgium  424660.3     34500.0  345647.0  351287.0\n",
       "2  Bulgaria   48128.6      6000.0   28716.0   30792.0\n",
       "3   Croatia   46639.5     11100.0   21432.4   22731.8"
      ]
     },
     "execution_count": 146,
     "metadata": {},
     "output_type": "execute_result"
    }
   ],
   "source": [
    "finance.head()"
   ]
  },
  {
   "cell_type": "code",
   "execution_count": 147,
   "metadata": {},
   "outputs": [],
   "source": [
    "fx = pd.read_csv('D:/DX/2018.csv')"
   ]
  },
  {
   "cell_type": "code",
   "execution_count": 148,
   "metadata": {},
   "outputs": [
    {
     "data": {
      "text/html": [
       "<div>\n",
       "<style scoped>\n",
       "    .dataframe tbody tr th:only-of-type {\n",
       "        vertical-align: middle;\n",
       "    }\n",
       "\n",
       "    .dataframe tbody tr th {\n",
       "        vertical-align: top;\n",
       "    }\n",
       "\n",
       "    .dataframe thead th {\n",
       "        text-align: right;\n",
       "    }\n",
       "</style>\n",
       "<table border=\"1\" class=\"dataframe\">\n",
       "  <thead>\n",
       "    <tr style=\"text-align: right;\">\n",
       "      <th></th>\n",
       "      <th>Country</th>\n",
       "      <th>GDP</th>\n",
       "      <th>GDP capita</th>\n",
       "      <th>Imports</th>\n",
       "      <th>Exports</th>\n",
       "    </tr>\n",
       "  </thead>\n",
       "  <tbody>\n",
       "    <tr>\n",
       "      <th>0</th>\n",
       "      <td>Austria</td>\n",
       "      <td>386093.8</td>\n",
       "      <td>38000.00</td>\n",
       "      <td>196722.4</td>\n",
       "      <td>210608.0</td>\n",
       "    </tr>\n",
       "    <tr>\n",
       "      <th>1</th>\n",
       "      <td>Belgium</td>\n",
       "      <td>450576.8</td>\n",
       "      <td>35300.00</td>\n",
       "      <td>393006.3</td>\n",
       "      <td>395468.8</td>\n",
       "    </tr>\n",
       "    <tr>\n",
       "      <th>2</th>\n",
       "      <td>Bulgaria</td>\n",
       "      <td>55182.2</td>\n",
       "      <td>6500.00</td>\n",
       "      <td>35121.8</td>\n",
       "      <td>35589.5</td>\n",
       "    </tr>\n",
       "    <tr>\n",
       "      <th>3</th>\n",
       "      <td>Croatia</td>\n",
       "      <td>51467.8</td>\n",
       "      <td>:</td>\n",
       "      <td>25662.1</td>\n",
       "      <td>26365.9</td>\n",
       "    </tr>\n",
       "  </tbody>\n",
       "</table>\n",
       "</div>"
      ],
      "text/plain": [
       "    Country       GDP GDP capita   Imports   Exports\n",
       "0   Austria  386093.8   38000.00  196722.4  210608.0\n",
       "1   Belgium  450576.8   35300.00  393006.3  395468.8\n",
       "2  Bulgaria   55182.2    6500.00   35121.8   35589.5\n",
       "3   Croatia   51467.8          :   25662.1   26365.9"
      ]
     },
     "execution_count": 148,
     "metadata": {},
     "output_type": "execute_result"
    }
   ],
   "source": [
    "fx.head()"
   ]
  },
  {
   "cell_type": "markdown",
   "metadata": {},
   "source": [
    "## Part 2: Visualizing the Data\n",
    "\n",
    "** Time to visualize the data. **\n",
    "\n",
    "** Follow along and recreate the plots below according to the instructions and explanations. **"
   ]
  },
  {
   "cell_type": "markdown",
   "metadata": {},
   "source": [
    "____\n",
    "\n",
    "** Recreate this linear plot of all the stocks' Open price ! Hint: For the legend, use label parameter and plt.legend()**"
   ]
  },
  {
   "cell_type": "code",
   "execution_count": 149,
   "metadata": {},
   "outputs": [
    {
     "data": {
      "text/plain": [
       "<matplotlib.legend.Legend at 0x2b37ab50ef0>"
      ]
     },
     "execution_count": 149,
     "metadata": {},
     "output_type": "execute_result"
    },
    {
     "data": {
      "image/png": "[encoded data removed]",
      "text/plain": [
       "<Figure size 864x432 with 1 Axes>"
      ]
     },
     "metadata": {
      "needs_background": "light"
     },
     "output_type": "display_data"
    },
    {
     "data": {
      "image/png": "[encoded data removed]",
      "text/plain": [
       "<Figure size 432x288 with 1 Axes>"
      ]
     },
     "metadata": {
      "needs_background": "light"
     },
     "output_type": "display_data"
    },
    {
     "data": {
      "image/png": "[encoded data removed]",
      "text/plain": [
       "<Figure size 432x288 with 1 Axes>"
      ]
     },
     "metadata": {
      "needs_background": "light"
     },
     "output_type": "display_data"
    }
   ],
   "source": [
    "# Code Here\n",
    "fig = plt.figure(figsize = (12, 6))\n",
    "plt.title('Rank')\n",
    "tesla_stock.plot(label = 'Country')\n",
    "tesla_stock.plot(label = 'income')\n",
    "plt.legend()"
   ]
  },
  {
   "cell_type": "markdown",
   "metadata": {},
   "source": [
    "____"
   ]
  },
  {
   "cell_type": "markdown",
   "metadata": {},
   "source": [
    "** Plot the Volume of stock traded each day.**"
   ]
  },
  {
   "cell_type": "markdown",
   "metadata": {},
   "source": [
    "** Interesting, looks like Ford had a really big spike somewhere in late 2013. What was the date of this maximum trading volume for Ford?**\n",
    "\n",
    "**Bonus: What happened that day? **"
   ]
  },
  {
   "cell_type": "code",
   "execution_count": 152,
   "metadata": {},
   "outputs": [
    {
     "name": "stderr",
     "output_type": "stream",
     "text": [
      "C:\\Users\\Rohit\\Anaconda3\\lib\\site-packages\\ipykernel_launcher.py:1: FutureWarning: \n",
      "The current behaviour of 'Series.argmax' is deprecated, use 'idxmax'\n",
      "instead.\n",
      "The behavior of 'argmax' will be corrected to return the positional\n",
      "maximum in the future. For now, use 'series.values.argmax' or\n",
      "'np.argmax(np.array(values))' to get the position of the maximum\n",
      "row.\n",
      "  \"\"\"Entry point for launching an IPython kernel.\n"
     ]
    },
    {
     "data": {
      "text/plain": [
       "1"
      ]
     },
     "execution_count": 152,
     "metadata": {},
     "output_type": "execute_result"
    }
   ],
   "source": [
    "tesla_stock['GDP'].argmax()\n"
   ]
  },
  {
   "cell_type": "code",
   "execution_count": 153,
   "metadata": {},
   "outputs": [
    {
     "name": "stderr",
     "output_type": "stream",
     "text": [
      "C:\\Users\\Rohit\\Anaconda3\\lib\\site-packages\\ipykernel_launcher.py:1: FutureWarning: \n",
      "The current behaviour of 'Series.argmax' is deprecated, use 'idxmax'\n",
      "instead.\n",
      "The behavior of 'argmax' will be corrected to return the positional\n",
      "maximum in the future. For now, use 'series.values.argmax' or\n",
      "'np.argmax(np.array(values))' to get the position of the maximum\n",
      "row.\n",
      "  \"\"\"Entry point for launching an IPython kernel.\n"
     ]
    },
    {
     "data": {
      "text/plain": [
       "0"
      ]
     },
     "execution_count": 153,
     "metadata": {},
     "output_type": "execute_result"
    }
   ],
   "source": [
    "tesla_stock['GDP capita'].argmax()\n"
   ]
  },
  {
   "cell_type": "code",
   "execution_count": 157,
   "metadata": {},
   "outputs": [
    {
     "name": "stderr",
     "output_type": "stream",
     "text": [
      "C:\\Users\\Rohit\\Anaconda3\\lib\\site-packages\\ipykernel_launcher.py:1: FutureWarning: \n",
      "The current behaviour of 'Series.argmax' is deprecated, use 'idxmax'\n",
      "instead.\n",
      "The behavior of 'argmax' will be corrected to return the positional\n",
      "maximum in the future. For now, use 'series.values.argmax' or\n",
      "'np.argmax(np.array(values))' to get the position of the maximum\n",
      "row.\n",
      "  \"\"\"Entry point for launching an IPython kernel.\n"
     ]
    },
    {
     "data": {
      "text/plain": [
       "1"
      ]
     },
     "execution_count": 157,
     "metadata": {},
     "output_type": "execute_result"
    }
   ],
   "source": [
    "tesla_stock['Imports'].argmax()\n"
   ]
  },
  {
   "cell_type": "code",
   "execution_count": 158,
   "metadata": {},
   "outputs": [
    {
     "name": "stderr",
     "output_type": "stream",
     "text": [
      "C:\\Users\\Rohit\\Anaconda3\\lib\\site-packages\\ipykernel_launcher.py:1: FutureWarning: \n",
      "The current behaviour of 'Series.argmax' is deprecated, use 'idxmax'\n",
      "instead.\n",
      "The behavior of 'argmax' will be corrected to return the positional\n",
      "maximum in the future. For now, use 'series.values.argmax' or\n",
      "'np.argmax(np.array(values))' to get the position of the maximum\n",
      "row.\n",
      "  \"\"\"Entry point for launching an IPython kernel.\n"
     ]
    },
    {
     "data": {
      "text/plain": [
       "1"
      ]
     },
     "execution_count": 158,
     "metadata": {},
     "output_type": "execute_result"
    }
   ],
   "source": [
    "tesla_stock['Exports'].argmax()\n"
   ]
  },
  {
   "cell_type": "code",
   "execution_count": 18,
   "metadata": {},
   "outputs": [],
   "source": [
    "# http://money.cnn.com/2013/12/18/news/companies/ford-profit/index.html"
   ]
  },
  {
   "cell_type": "markdown",
   "metadata": {},
   "source": [
    "____"
   ]
  },
  {
   "cell_type": "markdown",
   "metadata": {},
   "source": [
    "** The Open Price Time Series Visualization makes Tesla look like its always been much more valuable as a company than GM and Ford. But to really understand this we would need to look at the total market cap of the company, not just the stock price. Unfortunately our current data doesn't have that information of total units of stock present. But what we can do as a simple calcualtion to try to represent total money traded would be to multply the Volume column by the Open price. Remember that this still isn't the actual Market Cap, its just a visual representation of the total amount of money being traded around using the time series. (e.g. 100 units of stock at \\$10 each versus 100000 units of stock at $1 each)**"
   ]
  },
  {
   "cell_type": "markdown",
   "metadata": {},
   "source": [
    "** Create a new column for each dataframe called \"Total Traded\" which is the Open Price multiplied by the Volume Traded.**"
   ]
  },
  {
   "cell_type": "markdown",
   "metadata": {},
   "source": [
    "** Plot this \"Total Traded\" against the time index.**"
   ]
  },
  {
   "cell_type": "code",
   "execution_count": 20,
   "metadata": {},
   "outputs": [
    {
     "data": {
      "text/plain": [
       "<matplotlib.legend.Legend at 0x2b378241128>"
      ]
     },
     "execution_count": 20,
     "metadata": {},
     "output_type": "execute_result"
    },
    {
     "data": {
      "image/png": "[encoded data removed]",
      "text/plain": [
       "<Figure size 864x432 with 1 Axes>"
      ]
     },
     "metadata": {
      "needs_background": "light"
     },
     "output_type": "display_data"
    }
   ],
   "source": [
    "# Code here\n",
    "fig = plt.figure(figsize = (12, 6))\n",
    "plt.title('Total Traded')\n",
    "\n",
    "tesla_stock['Exports'].plot(label = 'Tesla')\n",
    "finance['Exports'].plot(label = 'Ford')\n",
    "fx['Exports'].plot(label = 'GM')\n",
    "plt.legend()"
   ]
  },
  {
   "cell_type": "code",
   "execution_count": null,
   "metadata": {},
   "outputs": [],
   "source": []
  },
  {
   "cell_type": "markdown",
   "metadata": {},
   "source": [
    "** Interesting, looks like there was huge amount of money traded for Tesla somewhere in early 2014. What date was that and what happened? **"
   ]
  },
  {
   "cell_type": "code",
   "execution_count": 22,
   "metadata": {},
   "outputs": [],
   "source": [
    "# http://money.cnn.com/2014/02/25/investing/tesla-record-high/"
   ]
  },
  {
   "cell_type": "markdown",
   "metadata": {},
   "source": [
    "____"
   ]
  },
  {
   "cell_type": "markdown",
   "metadata": {},
   "source": [
    "** Let's practice plotting out some MA (Moving Averages). Plot out the MA50 and MA200 for GM. **"
   ]
  },
  {
   "cell_type": "code",
   "execution_count": 23,
   "metadata": {},
   "outputs": [],
   "source": [
    "# Code here"
   ]
  },
  {
   "cell_type": "markdown",
   "metadata": {},
   "source": [
    "______"
   ]
  },
  {
   "cell_type": "markdown",
   "metadata": {},
   "source": [
    "** Finally lets see if there is a relationship between these stocks, after all, they are all related to the car industry. We can see this easily through a scatter matrix plot. Import scatter_matrix from pandas.plotting and use it to create a scatter matrix plot of all the stocks'opening price. You may need to rearrange the columns into a new single dataframe. Hints and info can be found here: https://pandas.pydata.org/pandas-docs/stable/visualization.html#scatter-matrix-plot **"
   ]
  },
  {
   "cell_type": "code",
   "execution_count": 24,
   "metadata": {},
   "outputs": [],
   "source": [
    "from pandas.plotting import scatter_matrix"
   ]
  },
  {
   "cell_type": "code",
   "execution_count": 25,
   "metadata": {},
   "outputs": [
    {
     "data": {
      "text/html": [
       "<div>\n",
       "<style scoped>\n",
       "    .dataframe tbody tr th:only-of-type {\n",
       "        vertical-align: middle;\n",
       "    }\n",
       "\n",
       "    .dataframe tbody tr th {\n",
       "        vertical-align: top;\n",
       "    }\n",
       "\n",
       "    .dataframe thead th {\n",
       "        text-align: right;\n",
       "    }\n",
       "</style>\n",
       "<table border=\"1\" class=\"dataframe\">\n",
       "  <thead>\n",
       "    <tr style=\"text-align: right;\">\n",
       "      <th></th>\n",
       "      <th>2016</th>\n",
       "      <th>2017</th>\n",
       "      <th>2018</th>\n",
       "    </tr>\n",
       "  </thead>\n",
       "  <tbody>\n",
       "    <tr>\n",
       "      <th>0</th>\n",
       "      <td>356237.6</td>\n",
       "      <td>369899.2</td>\n",
       "      <td>386093.8</td>\n",
       "    </tr>\n",
       "    <tr>\n",
       "      <th>1</th>\n",
       "      <td>424660.3</td>\n",
       "      <td>439051.9</td>\n",
       "      <td>450576.8</td>\n",
       "    </tr>\n",
       "    <tr>\n",
       "      <th>2</th>\n",
       "      <td>48128.6</td>\n",
       "      <td>51663.0</td>\n",
       "      <td>55182.2</td>\n",
       "    </tr>\n",
       "    <tr>\n",
       "      <th>3</th>\n",
       "      <td>46639.5</td>\n",
       "      <td>48989.5</td>\n",
       "      <td>51467.8</td>\n",
       "    </tr>\n",
       "  </tbody>\n",
       "</table>\n",
       "</div>"
      ],
      "text/plain": [
       "       2016      2017      2018\n",
       "0  356237.6  369899.2  386093.8\n",
       "1  424660.3  439051.9  450576.8\n",
       "2   48128.6   51663.0   55182.2\n",
       "3   46639.5   48989.5   51467.8"
      ]
     },
     "execution_count": 25,
     "metadata": {},
     "output_type": "execute_result"
    }
   ],
   "source": [
    "gdp = pd.concat([tesla_stock['GDP'], finance['GDP'], fx['GDP']], axis = 1)\n",
    "gdp.columns = ['2016', '2017', '2018']\n",
    "gdp.head()"
   ]
  },
  {
   "cell_type": "code",
   "execution_count": 26,
   "metadata": {},
   "outputs": [
    {
     "data": {
      "text/html": [
       "<div>\n",
       "<style scoped>\n",
       "    .dataframe tbody tr th:only-of-type {\n",
       "        vertical-align: middle;\n",
       "    }\n",
       "\n",
       "    .dataframe tbody tr th {\n",
       "        vertical-align: top;\n",
       "    }\n",
       "\n",
       "    .dataframe thead th {\n",
       "        text-align: right;\n",
       "    }\n",
       "</style>\n",
       "<table border=\"1\" class=\"dataframe\">\n",
       "  <thead>\n",
       "    <tr style=\"text-align: right;\">\n",
       "      <th></th>\n",
       "      <th>2016</th>\n",
       "      <th>2017</th>\n",
       "      <th>2018</th>\n",
       "    </tr>\n",
       "  </thead>\n",
       "  <tbody>\n",
       "    <tr>\n",
       "      <th>0</th>\n",
       "      <td>36500</td>\n",
       "      <td>37200.0</td>\n",
       "      <td>38000.00</td>\n",
       "    </tr>\n",
       "    <tr>\n",
       "      <th>1</th>\n",
       "      <td>34500</td>\n",
       "      <td>35000.0</td>\n",
       "      <td>35300.00</td>\n",
       "    </tr>\n",
       "    <tr>\n",
       "      <th>2</th>\n",
       "      <td>6000</td>\n",
       "      <td>6300.0</td>\n",
       "      <td>6500.00</td>\n",
       "    </tr>\n",
       "    <tr>\n",
       "      <th>3</th>\n",
       "      <td>11100</td>\n",
       "      <td>11500.0</td>\n",
       "      <td>:</td>\n",
       "    </tr>\n",
       "  </tbody>\n",
       "</table>\n",
       "</div>"
      ],
      "text/plain": [
       "    2016     2017      2018\n",
       "0  36500  37200.0  38000.00\n",
       "1  34500  35000.0  35300.00\n",
       "2   6000   6300.0   6500.00\n",
       "3  11100  11500.0         :"
      ]
     },
     "execution_count": 26,
     "metadata": {},
     "output_type": "execute_result"
    }
   ],
   "source": [
    "gdp_capita = pd.concat([tesla_stock['GDP capita'], finance['GDP capita'], fx['GDP capita']], axis = 1)\n",
    "gdp_capita.columns = ['2016', '2017', '2018']\n",
    "gdp_capita.head()"
   ]
  },
  {
   "cell_type": "code",
   "execution_count": 27,
   "metadata": {},
   "outputs": [
    {
     "data": {
      "text/html": [
       "<div>\n",
       "<style scoped>\n",
       "    .dataframe tbody tr th:only-of-type {\n",
       "        vertical-align: middle;\n",
       "    }\n",
       "\n",
       "    .dataframe tbody tr th {\n",
       "        vertical-align: top;\n",
       "    }\n",
       "\n",
       "    .dataframe thead th {\n",
       "        text-align: right;\n",
       "    }\n",
       "</style>\n",
       "<table border=\"1\" class=\"dataframe\">\n",
       "  <thead>\n",
       "    <tr style=\"text-align: right;\">\n",
       "      <th></th>\n",
       "      <th>2016</th>\n",
       "      <th>2017</th>\n",
       "      <th>2018</th>\n",
       "    </tr>\n",
       "  </thead>\n",
       "  <tbody>\n",
       "    <tr>\n",
       "      <th>0</th>\n",
       "      <td>173343.2</td>\n",
       "      <td>187327.0</td>\n",
       "      <td>196722.4</td>\n",
       "    </tr>\n",
       "    <tr>\n",
       "      <th>1</th>\n",
       "      <td>345647.0</td>\n",
       "      <td>371514.0</td>\n",
       "      <td>393006.3</td>\n",
       "    </tr>\n",
       "    <tr>\n",
       "      <th>2</th>\n",
       "      <td>28716.0</td>\n",
       "      <td>32912.9</td>\n",
       "      <td>35121.8</td>\n",
       "    </tr>\n",
       "    <tr>\n",
       "      <th>3</th>\n",
       "      <td>21432.4</td>\n",
       "      <td>23925.8</td>\n",
       "      <td>25662.1</td>\n",
       "    </tr>\n",
       "  </tbody>\n",
       "</table>\n",
       "</div>"
      ],
      "text/plain": [
       "       2016      2017      2018\n",
       "0  173343.2  187327.0  196722.4\n",
       "1  345647.0  371514.0  393006.3\n",
       "2   28716.0   32912.9   35121.8\n",
       "3   21432.4   23925.8   25662.1"
      ]
     },
     "execution_count": 27,
     "metadata": {},
     "output_type": "execute_result"
    }
   ],
   "source": [
    "imports = pd.concat([tesla_stock['Imports'], finance['Imports'], fx['Imports']], axis = 1)\n",
    "imports.columns = ['2016', '2017', '2018']\n",
    "imports.head()"
   ]
  },
  {
   "cell_type": "code",
   "execution_count": 28,
   "metadata": {},
   "outputs": [
    {
     "data": {
      "text/html": [
       "<div>\n",
       "<style scoped>\n",
       "    .dataframe tbody tr th:only-of-type {\n",
       "        vertical-align: middle;\n",
       "    }\n",
       "\n",
       "    .dataframe tbody tr th {\n",
       "        vertical-align: top;\n",
       "    }\n",
       "\n",
       "    .dataframe thead th {\n",
       "        text-align: right;\n",
       "    }\n",
       "</style>\n",
       "<table border=\"1\" class=\"dataframe\">\n",
       "  <thead>\n",
       "    <tr style=\"text-align: right;\">\n",
       "      <th></th>\n",
       "      <th>2016</th>\n",
       "      <th>2017</th>\n",
       "      <th>2018</th>\n",
       "    </tr>\n",
       "  </thead>\n",
       "  <tbody>\n",
       "    <tr>\n",
       "      <th>0</th>\n",
       "      <td>186464.0</td>\n",
       "      <td>198758.3</td>\n",
       "      <td>210608.0</td>\n",
       "    </tr>\n",
       "    <tr>\n",
       "      <th>1</th>\n",
       "      <td>351287.0</td>\n",
       "      <td>376628.0</td>\n",
       "      <td>395468.8</td>\n",
       "    </tr>\n",
       "    <tr>\n",
       "      <th>2</th>\n",
       "      <td>30792.0</td>\n",
       "      <td>34804.8</td>\n",
       "      <td>35589.5</td>\n",
       "    </tr>\n",
       "    <tr>\n",
       "      <th>3</th>\n",
       "      <td>22731.8</td>\n",
       "      <td>25026.9</td>\n",
       "      <td>26365.9</td>\n",
       "    </tr>\n",
       "  </tbody>\n",
       "</table>\n",
       "</div>"
      ],
      "text/plain": [
       "       2016      2017      2018\n",
       "0  186464.0  198758.3  210608.0\n",
       "1  351287.0  376628.0  395468.8\n",
       "2   30792.0   34804.8   35589.5\n",
       "3   22731.8   25026.9   26365.9"
      ]
     },
     "execution_count": 28,
     "metadata": {},
     "output_type": "execute_result"
    }
   ],
   "source": [
    "exports = pd.concat([tesla_stock['Exports'], finance['Exports'], fx['Exports']], axis = 1)\n",
    "exports.columns = ['2016', '2017', '2018']\n",
    "exports.head()"
   ]
  },
  {
   "cell_type": "code",
   "execution_count": 29,
   "metadata": {},
   "outputs": [
    {
     "data": {
      "text/html": [
       "<div>\n",
       "<style scoped>\n",
       "    .dataframe tbody tr th:only-of-type {\n",
       "        vertical-align: middle;\n",
       "    }\n",
       "\n",
       "    .dataframe tbody tr th {\n",
       "        vertical-align: top;\n",
       "    }\n",
       "\n",
       "    .dataframe thead th {\n",
       "        text-align: right;\n",
       "    }\n",
       "</style>\n",
       "<table border=\"1\" class=\"dataframe\">\n",
       "  <thead>\n",
       "    <tr style=\"text-align: right;\">\n",
       "      <th></th>\n",
       "      <th>2016</th>\n",
       "      <th>2017</th>\n",
       "      <th>2018</th>\n",
       "    </tr>\n",
       "  </thead>\n",
       "  <tbody>\n",
       "    <tr>\n",
       "      <th>2016</th>\n",
       "      <td>1.000000</td>\n",
       "      <td>0.999982</td>\n",
       "      <td>1.000000</td>\n",
       "    </tr>\n",
       "    <tr>\n",
       "      <th>2017</th>\n",
       "      <td>0.999982</td>\n",
       "      <td>1.000000</td>\n",
       "      <td>0.999979</td>\n",
       "    </tr>\n",
       "    <tr>\n",
       "      <th>2018</th>\n",
       "      <td>1.000000</td>\n",
       "      <td>0.999979</td>\n",
       "      <td>1.000000</td>\n",
       "    </tr>\n",
       "  </tbody>\n",
       "</table>\n",
       "</div>"
      ],
      "text/plain": [
       "          2016      2017      2018\n",
       "2016  1.000000  0.999982  1.000000\n",
       "2017  0.999982  1.000000  0.999979\n",
       "2018  1.000000  0.999979  1.000000"
      ]
     },
     "execution_count": 29,
     "metadata": {},
     "output_type": "execute_result"
    }
   ],
   "source": [
    "corr = exports.corr()\n",
    "corr"
   ]
  },
  {
   "cell_type": "code",
   "execution_count": 30,
   "metadata": {},
   "outputs": [
    {
     "data": {
      "text/html": [
       "<div>\n",
       "<style scoped>\n",
       "    .dataframe tbody tr th:only-of-type {\n",
       "        vertical-align: middle;\n",
       "    }\n",
       "\n",
       "    .dataframe tbody tr th {\n",
       "        vertical-align: top;\n",
       "    }\n",
       "\n",
       "    .dataframe thead th {\n",
       "        text-align: right;\n",
       "    }\n",
       "</style>\n",
       "<table border=\"1\" class=\"dataframe\">\n",
       "  <thead>\n",
       "    <tr style=\"text-align: right;\">\n",
       "      <th></th>\n",
       "      <th>2016</th>\n",
       "      <th>2017</th>\n",
       "      <th>2018</th>\n",
       "    </tr>\n",
       "  </thead>\n",
       "  <tbody>\n",
       "    <tr>\n",
       "      <th>2016</th>\n",
       "      <td>1.000000</td>\n",
       "      <td>0.999995</td>\n",
       "      <td>0.999988</td>\n",
       "    </tr>\n",
       "    <tr>\n",
       "      <th>2017</th>\n",
       "      <td>0.999995</td>\n",
       "      <td>1.000000</td>\n",
       "      <td>0.999989</td>\n",
       "    </tr>\n",
       "    <tr>\n",
       "      <th>2018</th>\n",
       "      <td>0.999988</td>\n",
       "      <td>0.999989</td>\n",
       "      <td>1.000000</td>\n",
       "    </tr>\n",
       "  </tbody>\n",
       "</table>\n",
       "</div>"
      ],
      "text/plain": [
       "          2016      2017      2018\n",
       "2016  1.000000  0.999995  0.999988\n",
       "2017  0.999995  1.000000  0.999989\n",
       "2018  0.999988  0.999989  1.000000"
      ]
     },
     "execution_count": 30,
     "metadata": {},
     "output_type": "execute_result"
    }
   ],
   "source": [
    "import_corr = imports.corr()\n",
    "import_corr"
   ]
  },
  {
   "cell_type": "code",
   "execution_count": 32,
   "metadata": {},
   "outputs": [
    {
     "data": {
      "text/plain": [
       "array([[<matplotlib.axes._subplots.AxesSubplot object at 0x000002B378276F60>,\n",
       "        <matplotlib.axes._subplots.AxesSubplot object at 0x000002B37842ADD8>,\n",
       "        <matplotlib.axes._subplots.AxesSubplot object at 0x000002B3782AC080>],\n",
       "       [<matplotlib.axes._subplots.AxesSubplot object at 0x000002B3782D52E8>,\n",
       "        <matplotlib.axes._subplots.AxesSubplot object at 0x000002B3782FC550>,\n",
       "        <matplotlib.axes._subplots.AxesSubplot object at 0x000002B3783257B8>],\n",
       "       [<matplotlib.axes._subplots.AxesSubplot object at 0x000002B37834EA20>,\n",
       "        <matplotlib.axes._subplots.AxesSubplot object at 0x000002B378379CC0>,\n",
       "        <matplotlib.axes._subplots.AxesSubplot object at 0x000002B378379CF8>]],\n",
       "      dtype=object)"
      ]
     },
     "execution_count": 32,
     "metadata": {},
     "output_type": "execute_result"
    },
    {
     "data": {
      "image/png": "[encoded data removed]",
      "text/plain": [
       "<Figure size 720x720 with 9 Axes>"
      ]
     },
     "metadata": {
      "needs_background": "light"
     },
     "output_type": "display_data"
    }
   ],
   "source": [
    "scatter_matrix(gdp, figsize = (10, 10), hist_kwds = {'bins' : 100})"
   ]
  },
  {
   "cell_type": "code",
   "execution_count": 33,
   "metadata": {},
   "outputs": [
    {
     "data": {
      "text/plain": [
       "array([[<matplotlib.axes._subplots.AxesSubplot object at 0x000002B3787DA198>,\n",
       "        <matplotlib.axes._subplots.AxesSubplot object at 0x000002B377955390>,\n",
       "        <matplotlib.axes._subplots.AxesSubplot object at 0x000002B3779E42B0>],\n",
       "       [<matplotlib.axes._subplots.AxesSubplot object at 0x000002B377997128>,\n",
       "        <matplotlib.axes._subplots.AxesSubplot object at 0x000002B379B49E80>,\n",
       "        <matplotlib.axes._subplots.AxesSubplot object at 0x000002B3779CEFD0>],\n",
       "       [<matplotlib.axes._subplots.AxesSubplot object at 0x000002B377967588>,\n",
       "        <matplotlib.axes._subplots.AxesSubplot object at 0x000002B37799DB38>,\n",
       "        <matplotlib.axes._subplots.AxesSubplot object at 0x000002B37799DB70>]],\n",
       "      dtype=object)"
      ]
     },
     "execution_count": 33,
     "metadata": {},
     "output_type": "execute_result"
    },
    {
     "data": {
      "image/png": "[encoded data removed]",
      "text/plain": [
       "<Figure size 720x720 with 9 Axes>"
      ]
     },
     "metadata": {
      "needs_background": "light"
     },
     "output_type": "display_data"
    }
   ],
   "source": [
    "scatter_matrix(imports, figsize = (10, 10), hist_kwds = {'bins' : 100})"
   ]
  },
  {
   "cell_type": "code",
   "execution_count": 34,
   "metadata": {},
   "outputs": [
    {
     "data": {
      "text/plain": [
       "array([[<matplotlib.axes._subplots.AxesSubplot object at 0x000002B3798F88D0>,\n",
       "        <matplotlib.axes._subplots.AxesSubplot object at 0x000002B37A03C518>,\n",
       "        <matplotlib.axes._subplots.AxesSubplot object at 0x000002B37A067CC0>],\n",
       "       [<matplotlib.axes._subplots.AxesSubplot object at 0x000002B379E12240>,\n",
       "        <matplotlib.axes._subplots.AxesSubplot object at 0x000002B379E387B8>,\n",
       "        <matplotlib.axes._subplots.AxesSubplot object at 0x000002B379E5FD30>],\n",
       "       [<matplotlib.axes._subplots.AxesSubplot object at 0x000002B379E902E8>,\n",
       "        <matplotlib.axes._subplots.AxesSubplot object at 0x000002B379EB6898>,\n",
       "        <matplotlib.axes._subplots.AxesSubplot object at 0x000002B379EB68D0>]],\n",
       "      dtype=object)"
      ]
     },
     "execution_count": 34,
     "metadata": {},
     "output_type": "execute_result"
    },
    {
     "data": {
      "image/png": "[encoded data removed]",
      "text/plain": [
       "<Figure size 720x720 with 9 Axes>"
      ]
     },
     "metadata": {
      "needs_background": "light"
     },
     "output_type": "display_data"
    }
   ],
   "source": [
    "scatter_matrix(exports, figsize = (10, 10), hist_kwds = {'bins' : 100})"
   ]
  },
  {
   "cell_type": "code",
   "execution_count": 35,
   "metadata": {},
   "outputs": [
    {
     "data": {
      "text/plain": [
       "array([[<matplotlib.axes._subplots.AxesSubplot object at 0x000002B37A2339E8>,\n",
       "        <matplotlib.axes._subplots.AxesSubplot object at 0x000002B37A728668>],\n",
       "       [<matplotlib.axes._subplots.AxesSubplot object at 0x000002B37A7549B0>,\n",
       "        <matplotlib.axes._subplots.AxesSubplot object at 0x000002B37A4EBEF0>]],\n",
       "      dtype=object)"
      ]
     },
     "execution_count": 35,
     "metadata": {},
     "output_type": "execute_result"
    },
    {
     "data": {
      "image/png": "[encoded data removed]",
      "text/plain": [
       "<Figure size 720x720 with 4 Axes>"
      ]
     },
     "metadata": {
      "needs_background": "light"
     },
     "output_type": "display_data"
    }
   ],
   "source": [
    "scatter_matrix(gdp_capita, figsize = (10, 10), hist_kwds = {'bins' : 100})"
   ]
  },
  {
   "cell_type": "markdown",
   "metadata": {},
   "source": [
    "____\n",
    "# Part 3: Basic Financial Analysis\n",
    "\n",
    "Now it is time to focus on a few key financial calculations. This will serve as your transition to the second half of the course. All you need to do is follow along with the instructions, this will mainly be an exercise in converting a mathematical equation or concept into code using python and pandas, something we will do often when working with quantiative data! If you feel very lost in this section, don't worry! Just go to the solutions lecture and treat it as a code-along lecture, use whatever style of learning works best for you!\n",
    "\n",
    "Let's begin!\n",
    "____"
   ]
  },
  {
   "cell_type": "markdown",
   "metadata": {},
   "source": [
    "## Daily Percentage Change\n",
    "First we will begin by calculating the daily percentage change. Daily percentage change is defined by the following formula:"
   ]
  },
  {
   "cell_type": "markdown",
   "metadata": {},
   "source": [
    "$ r_t = \\frac{p_t}{p_{t-1}} -1$"
   ]
  },
  {
   "cell_type": "markdown",
   "metadata": {},
   "source": [
    "This defines r_t (return at time t) as equal to the price at time t divided by the price at time t-1 (the previous day) minus 1. Basically this just informs you of your percent gain (or loss) if you bought the stock on day and then sold it the next day. While this isn't necessarily helpful for attempting to predict future values of the stock, its very helpful in analyzing the volatility of the stock. If daily returns have a wide distribution, the stock is more volatile from one day to the next. Let's calculate the percent returns and then plot them with a histogram, and decide which stock is the most stable!"
   ]
  },
  {
   "cell_type": "markdown",
   "metadata": {},
   "source": [
    "** Create a new column for each dataframe called returns. This column will be calculated from the Close price column. There are two ways to do this, either a simple calculation using the .shift() method that follows the formula above, or you can also use pandas' built in pct_change method. **"
   ]
  },
  {
   "cell_type": "code",
   "execution_count": 37,
   "metadata": {},
   "outputs": [
    {
     "data": {
      "text/html": [
       "<div>\n",
       "<style scoped>\n",
       "    .dataframe tbody tr th:only-of-type {\n",
       "        vertical-align: middle;\n",
       "    }\n",
       "\n",
       "    .dataframe tbody tr th {\n",
       "        vertical-align: top;\n",
       "    }\n",
       "\n",
       "    .dataframe thead th {\n",
       "        text-align: right;\n",
       "    }\n",
       "</style>\n",
       "<table border=\"1\" class=\"dataframe\">\n",
       "  <thead>\n",
       "    <tr style=\"text-align: right;\">\n",
       "      <th></th>\n",
       "      <th>Country</th>\n",
       "      <th>GDP</th>\n",
       "      <th>GDP capita</th>\n",
       "      <th>Imports</th>\n",
       "      <th>Exports</th>\n",
       "      <th>FX Swaps</th>\n",
       "      <th>Options</th>\n",
       "      <th>Outright forwards</th>\n",
       "      <th>Spot</th>\n",
       "      <th>Currency swaps</th>\n",
       "    </tr>\n",
       "  </thead>\n",
       "  <tbody>\n",
       "    <tr>\n",
       "      <th>0</th>\n",
       "      <td>Austria</td>\n",
       "      <td>356237.6</td>\n",
       "      <td>36500</td>\n",
       "      <td>173343.2</td>\n",
       "      <td>186464.0</td>\n",
       "      <td>12885.53</td>\n",
       "      <td>236.03</td>\n",
       "      <td>2032.03</td>\n",
       "      <td>236.03</td>\n",
       "      <td>110.90</td>\n",
       "    </tr>\n",
       "    <tr>\n",
       "      <th>1</th>\n",
       "      <td>Belgium</td>\n",
       "      <td>424660.3</td>\n",
       "      <td>34500</td>\n",
       "      <td>345647.0</td>\n",
       "      <td>351287.0</td>\n",
       "      <td>17969.38</td>\n",
       "      <td>295.11</td>\n",
       "      <td>549.14</td>\n",
       "      <td>295.11</td>\n",
       "      <td>237.69</td>\n",
       "    </tr>\n",
       "    <tr>\n",
       "      <th>2</th>\n",
       "      <td>Bulgaria</td>\n",
       "      <td>48128.6</td>\n",
       "      <td>6000</td>\n",
       "      <td>28716.0</td>\n",
       "      <td>30792.0</td>\n",
       "      <td>13866.00</td>\n",
       "      <td>281.00</td>\n",
       "      <td>1206.00</td>\n",
       "      <td>252.00</td>\n",
       "      <td>268.00</td>\n",
       "    </tr>\n",
       "    <tr>\n",
       "      <th>3</th>\n",
       "      <td>Croatia</td>\n",
       "      <td>46639.5</td>\n",
       "      <td>11100</td>\n",
       "      <td>21432.4</td>\n",
       "      <td>22731.8</td>\n",
       "      <td>11080.00</td>\n",
       "      <td>266.00</td>\n",
       "      <td>583.00</td>\n",
       "      <td>274.00</td>\n",
       "      <td>277.00</td>\n",
       "    </tr>\n",
       "  </tbody>\n",
       "</table>\n",
       "</div>"
      ],
      "text/plain": [
       "    Country       GDP  GDP capita   Imports   Exports  FX Swaps  Options  \\\n",
       "0   Austria  356237.6       36500  173343.2  186464.0  12885.53   236.03   \n",
       "1   Belgium  424660.3       34500  345647.0  351287.0  17969.38   295.11   \n",
       "2  Bulgaria   48128.6        6000   28716.0   30792.0  13866.00   281.00   \n",
       "3   Croatia   46639.5       11100   21432.4   22731.8  11080.00   266.00   \n",
       "\n",
       "   Outright forwards    Spot  Currency swaps  \n",
       "0            2032.03  236.03          110.90  \n",
       "1             549.14  295.11          237.69  \n",
       "2            1206.00  252.00          268.00  \n",
       "3             583.00  274.00          277.00  "
      ]
     },
     "execution_count": 37,
     "metadata": {},
     "output_type": "execute_result"
    }
   ],
   "source": [
    "tesla_stock.head()"
   ]
  },
  {
   "cell_type": "markdown",
   "metadata": {},
   "source": [
    "** Now plot a histogram of each companies returns. Either do them separately, or stack them on top of each other. Which stock is the most \"volatile\"? (as judged by the variance in the daily returns we will discuss volatility in a lot more detail in future lectures.)**"
   ]
  },
  {
   "cell_type": "code",
   "execution_count": 115,
   "metadata": {},
   "outputs": [
    {
     "name": "stdout",
     "output_type": "stream",
     "text": [
      "Rank\n",
      "Index(['Country', 'GDP', 'GDP_capita', 'Imports', 'Exports'], dtype='object')\n",
      "\n",
      "\n",
      "Creating Random Weights\n",
      "[0.51639863 0.57066759 0.02847423 0.17152166 0.68527698]\n",
      "\n",
      "\n",
      "Rebalance to sum to 1.0\n",
      "[0.26182041 0.28933544 0.01443678 0.08696357 0.3474438 ]\n",
      "\n",
      "\n"
     ]
    }
   ],
   "source": [
    "# Set seed (optional)\n",
    "np.random.seed(101)\n",
    "\n",
    "# Stock Columns\n",
    "print('Rank')\n",
    "print(finance.columns)\n",
    "print('\\n')\n",
    "\n",
    "# Create Random Weights\n",
    "print('Creating Random Weights')\n",
    "weights = np.array(np.random.random(5))\n",
    "print(weights)\n",
    "print('\\n')\n",
    "\n",
    "# Rebalance Weights\n",
    "print('Rebalance to sum to 1.0')\n",
    "weights = weights / np.sum(weights)\n",
    "print(weights)\n",
    "print('\\n')"
   ]
  },
  {
   "cell_type": "code",
   "execution_count": 116,
   "metadata": {},
   "outputs": [],
   "source": [
    "num_ports = 15000\n",
    "\n",
    "all_weights = np.zeros((num_ports, len(finance.columns)))\n",
    "ret_arr = np.zeros(num_ports)\n",
    "vol_arr = np.zeros(num_ports)\n",
    "sharpe_arr = np.zeros(num_ports)\n",
    "\n",
    "for ind in range(num_ports):\n",
    "\n",
    "    # Create Random Weights\n",
    "    weights = np.array(np.random.random(5))\n",
    "\n",
    "    # Rebalance Weights\n",
    "    weights = weights / np.sum(weights)\n",
    "    \n",
    "    # Save Weights\n",
    "    all_weights[ind,:] = weights"
   ]
  },
  {
   "cell_type": "code",
   "execution_count": 126,
   "metadata": {},
   "outputs": [
    {
     "data": {
      "text/html": [
       "<div>\n",
       "<style scoped>\n",
       "    .dataframe tbody tr th:only-of-type {\n",
       "        vertical-align: middle;\n",
       "    }\n",
       "\n",
       "    .dataframe tbody tr th {\n",
       "        vertical-align: top;\n",
       "    }\n",
       "\n",
       "    .dataframe thead th {\n",
       "        text-align: right;\n",
       "    }\n",
       "</style>\n",
       "<table border=\"1\" class=\"dataframe\">\n",
       "  <thead>\n",
       "    <tr style=\"text-align: right;\">\n",
       "      <th></th>\n",
       "      <th>Country</th>\n",
       "      <th>GDP</th>\n",
       "      <th>GDP_capita</th>\n",
       "      <th>Imports</th>\n",
       "      <th>Exports</th>\n",
       "    </tr>\n",
       "  </thead>\n",
       "  <tbody>\n",
       "    <tr>\n",
       "      <th>0</th>\n",
       "      <td>Austria</td>\n",
       "      <td>356237.6</td>\n",
       "      <td>36500.0</td>\n",
       "      <td>173343.2</td>\n",
       "      <td>186464.0</td>\n",
       "    </tr>\n",
       "    <tr>\n",
       "      <th>1</th>\n",
       "      <td>Belgium</td>\n",
       "      <td>424660.3</td>\n",
       "      <td>34500.0</td>\n",
       "      <td>345647.0</td>\n",
       "      <td>351287.0</td>\n",
       "    </tr>\n",
       "    <tr>\n",
       "      <th>2</th>\n",
       "      <td>Bulgaria</td>\n",
       "      <td>48128.6</td>\n",
       "      <td>6000.0</td>\n",
       "      <td>28716.0</td>\n",
       "      <td>30792.0</td>\n",
       "    </tr>\n",
       "    <tr>\n",
       "      <th>3</th>\n",
       "      <td>Croatia</td>\n",
       "      <td>46639.5</td>\n",
       "      <td>11100.0</td>\n",
       "      <td>21432.4</td>\n",
       "      <td>22731.8</td>\n",
       "    </tr>\n",
       "  </tbody>\n",
       "</table>\n",
       "</div>"
      ],
      "text/plain": [
       "    Country       GDP  GDP_capita   Imports   Exports\n",
       "0   Austria  356237.6     36500.0  173343.2  186464.0\n",
       "1   Belgium  424660.3     34500.0  345647.0  351287.0\n",
       "2  Bulgaria   48128.6      6000.0   28716.0   30792.0\n",
       "3   Croatia   46639.5     11100.0   21432.4   22731.8"
      ]
     },
     "execution_count": 126,
     "metadata": {},
     "output_type": "execute_result"
    }
   ],
   "source": [
    "finance"
   ]
  },
  {
   "cell_type": "code",
   "execution_count": 127,
   "metadata": {},
   "outputs": [],
   "source": [
    "mult=[5,5]\n",
    "mult_1=((finance.GDP[1]*weights[1])+(finance.GDP_capita[1]*weights[1])+(finance.Imports[1]*weights[1])+(finance.Exports[1]*weights[1]))\n",
    "mult_2=((finance.GDP[2]*weights[2])+(finance.GDP_capita[2]*weights[2])+(finance.Imports[2]*weights[2])+(finance.Exports[2]*weights[2]))\n",
    "mult_0=((finance.GDP[0]*weights[0])+(finance.GDP_capita[0]*weights[0])+(finance.Imports[0]*weights[0])+(finance.Exports[0]*weights[0]))\n",
    "mult_3=((finance.GDP[3]*weights[3])+(finance.GDP_capita[3]*weights[3])+(finance.Imports[3]*weights[3])+(finance.Exports[3]*weights[3]))\n"
   ]
  },
  {
   "cell_type": "code",
   "execution_count": 131,
   "metadata": {},
   "outputs": [
    {
     "data": {
      "text/plain": [
       "[172907.37665981086, 174347.21213967487, 36758.02947962181, 547.0735588107865]"
      ]
     },
     "execution_count": 131,
     "metadata": {},
     "output_type": "execute_result"
    }
   ],
   "source": [
    "mult=[mult_0,mult_1,mult_2,mult_3]\n",
    "mult"
   ]
  },
  {
   "cell_type": "code",
   "execution_count": 142,
   "metadata": {},
   "outputs": [
    {
     "data": {
      "text/plain": [
       "[174347.21213967487, 172907.37665981086, 36758.02947962181, 547.0735588107865]"
      ]
     },
     "execution_count": 142,
     "metadata": {},
     "output_type": "execute_result"
    }
   ],
   "source": [
    "sorted(mult,key=int,reverse=True)"
   ]
  },
  {
   "cell_type": "markdown",
   "metadata": {},
   "source": [
    "## Comparing Daily Returns between Stocks\n",
    "\n",
    "** Create a scatter matrix plot to see the correlation between each of the stocks daily returns. This helps answer the questions of how related the car companies are. Is Tesla begin treated more as a technology company rather than a car company by the market?**"
   ]
  },
  {
   "cell_type": "code",
   "execution_count": null,
   "metadata": {},
   "outputs": [],
   "source": [
    "from pandas.plotting import scatter_matrix\n",
    "\n",
    "scatter_matrix(box_df, figsize = (10, 10), hist_kwds={'bins':50})"
   ]
  },
  {
   "cell_type": "markdown",
   "metadata": {},
   "source": [
    "** It looks like Ford and GM do have some sort of possible relationship, let's plot just these two against eachother in scatter plot to view this more closely!**"
   ]
  },
  {
   "cell_type": "code",
   "execution_count": null,
   "metadata": {},
   "outputs": [],
   "source": [
    "fig = plt.figure(figsize = (12, 8))\n",
    "plt.scatter(ford_stock['returns'], gm_stock['returns'])"
   ]
  },
  {
   "cell_type": "markdown",
   "metadata": {},
   "source": [
    "____\n",
    "## Cumulative Daily Returns\n",
    "\n",
    "Great! Now we can see which stock was the most wide ranging in daily returns (you should have realized it was Tesla, our original stock price plot should have also made that obvious).\n",
    "\n",
    "With daily cumulative returns, the question we are trying to answer is the following, if I invested $1 in the company at the beginning of the time series, how much would is be worth today? This is different than just the stock price at the current day, because it will take into account the daily returns. Keep in mind, our simple calculation here won't take into account stocks that give back a dividend. Let's look at some simple examples:"
   ]
  },
  {
   "cell_type": "markdown",
   "metadata": {},
   "source": [
    "Lets us say there is a stock 'ABC' that is being actively traded on an exchange. ABC has the following prices corresponding to the dates given"
   ]
  },
  {
   "cell_type": "markdown",
   "metadata": {},
   "source": [
    "    Date                        Price\n",
    "    01/01/2018                   10\n",
    "    01/02/2018                   15\n",
    "    01/03/2018                   20\n",
    "    01/04/2018                   25"
   ]
  },
  {
   "cell_type": "markdown",
   "metadata": {},
   "source": [
    "**Daily Return** : Daily return is the profit/loss made by the stock compared to the previous day. (This is what ew just calculated above). A value above one indicates profit, similarly a value below one indicates loss. It is also expressed in percentage to convey the information better. (When expressed as percentage, if the value is above 0, the stock had give you profit else loss). So for the above example the daily returns would be"
   ]
  },
  {
   "cell_type": "markdown",
   "metadata": {},
   "source": [
    "    Date                         Daily Return                  %Daily Return\n",
    "    01/01/2018                 10/10 =  1                          -   \n",
    "    01/02/2018                 15/10 =  3/2                       50%\n",
    "    01/03/2018                 20/15 =  4/3                       33%\n",
    "    01/04/2018                 25/20 =  5/4                       20%"
   ]
  },
  {
   "cell_type": "markdown",
   "metadata": {},
   "source": [
    "**Cumulative Return**: While daily returns are useful, it doesn't give the investor a immediate insight into the gains he had made till date, especially if the stock is very volatile. Cumulative return is computed relative to the day investment is made.  If cumulative return is above one, you are making profits else you are in loss. So for the above example cumulative gains are as follows"
   ]
  },
  {
   "cell_type": "markdown",
   "metadata": {},
   "source": [
    "    Date                       Cumulative Return         %Cumulative Return\n",
    "    01/01/2018                  10/10 =  1                         100 %   \n",
    "    01/02/2018                  15/10 =  3/2                       150 %\n",
    "    01/03/2018                  20/10 =  2                         200 %\n",
    "    01/04/2018                  25/10 =  5/2                       250 %"
   ]
  },
  {
   "cell_type": "markdown",
   "metadata": {},
   "source": [
    "The formula for a cumulative daily return is:\n",
    "\n",
    "$ i_i = (1+r_t) * i_{t-1} $\n",
    "\n",
    "Here we can see we are just multiplying our previous investment at i at t-1 by 1+our percent returns. Pandas makes this very simple to calculate with its cumprod() method. Using something in the following manner:\n",
    "\n",
    "    df[daily_cumulative_return] = ( 1 + df[pct_daily_return] ).cumprod()\n",
    "    "
   ]
  },
  {
   "cell_type": "markdown",
   "metadata": {},
   "source": [
    "** Create a cumulative daily return column for each car company's dataframe.**"
   ]
  },
  {
   "cell_type": "code",
   "execution_count": null,
   "metadata": {},
   "outputs": [],
   "source": [
    "tesla_stock['Cumulative Return'] = (1 + tesla_stock['returns']).cumprod()\n",
    "tesla_stock.head()"
   ]
  },
  {
   "cell_type": "code",
   "execution_count": null,
   "metadata": {},
   "outputs": [],
   "source": [
    "ford_stock['Cumulative Return'] = (1 + ford_stock['returns']).cumprod()\n",
    "gm_stock['Cumulative Return'] = (1 + gm_stock['returns']).cumprod()"
   ]
  },
  {
   "cell_type": "markdown",
   "metadata": {},
   "source": [
    "** Now plot the Cumulative Return columns against the time series index. Which stock showed the highest return for a $1 invested? Which showed the lowest?**"
   ]
  },
  {
   "cell_type": "code",
   "execution_count": null,
   "metadata": {},
   "outputs": [],
   "source": [
    "\"\"\"Utility to retrieve function args.\"\"\"\n",
    "\n",
    "\n",
    "\n",
    "from __future__ import absolute_import\n",
    "\n",
    "from __future__ import division\n",
    "\n",
    "from __future__ import print_function\n",
    "\n",
    "\n",
    "\n",
    "import functools\n",
    "\n",
    "\n",
    "\n",
    "import six\n",
    "\n",
    "\n",
    "\n",
    "from tensorflow.core.protobuf import config_pb2\n",
    "\n",
    "from tensorflow.python.util import tf_decorator\n",
    "\n",
    "from tensorflow.python.util import tf_inspect\n",
    "\n",
    "\n",
    "\n",
    "\n",
    "\n",
    "def _is_bound_method(fn):\n",
    "\n",
    "  _, fn = tf_decorator.unwrap(fn)\n",
    "\n",
    "  return tf_inspect.ismethod(fn) and (fn.__self__ is not None)\n",
    "\n",
    "\n",
    "\n",
    "\n",
    "\n",
    "def _is_callable_object(obj):\n",
    "\n",
    "  return hasattr(obj, '__call__') and tf_inspect.ismethod(obj.__call__)\n",
    "\n",
    "\n",
    "\n",
    "\n",
    "\n",
    "def fn_args(fn):\n",
    "\n",
    "  \"\"\"Get argument names for function-like object.\n",
    "\n",
    "\n",
    "\n",
    "  Args:\n",
    "\n",
    "    fn: Function, or function-like object (e.g., result of `functools.partial`).\n",
    "\n",
    "\n",
    "\n",
    "  Returns:\n",
    "\n",
    "    `tuple` of string argument names.\n",
    "\n",
    "\n",
    "\n",
    "  Raises:\n",
    "\n",
    "    ValueError: if partial function has positionally bound arguments\n",
    "\n",
    "  \"\"\"\n",
    "\n",
    "  if isinstance(fn, functools.partial):\n",
    "\n",
    "    args = fn_args(fn.func)\n",
    "\n",
    "    args = [a for a in args[len(fn.args):] if a not in (fn.keywords or [])]\n",
    "\n",
    "  else:\n",
    "\n",
    "    if _is_callable_object(fn):\n",
    "\n",
    "      fn = fn.__call__\n",
    "\n",
    "    args = tf_inspect.getfullargspec(fn).args\n",
    "\n",
    "    if _is_bound_method(fn) and args:\n",
    "\n",
    "      # If it's a bound method, it may or may not have a self/cls first\n",
    "\n",
    "      # argument; for example, self could be captured in *args.\n",
    "\n",
    "      # If it does have a positional argument, it is self/cls.\n",
    "\n",
    "      args.pop(0)\n",
    "\n",
    "  return tuple(args)\n",
    "\n",
    "\n",
    "\n",
    "\n",
    "\n",
    "def has_kwargs(fn):\n",
    "\n",
    "  \"\"\"Returns whether the passed callable has **kwargs in its signature.\n",
    "\n",
    "\n",
    "\n",
    "  Args:\n",
    "\n",
    "    fn: Function, or function-like object (e.g., result of `functools.partial`).\n",
    "\n",
    "\n",
    "\n",
    "  Returns:\n",
    "\n",
    "    `bool`: if `fn` has **kwargs in its signature.\n",
    "\n",
    "\n",
    "\n",
    "  Raises:\n",
    "\n",
    "     `TypeError`: If fn is not a Function, or function-like object.\n",
    "\n",
    "  \"\"\"\n",
    "\n",
    "  if isinstance(fn, functools.partial):\n",
    "\n",
    "    fn = fn.func\n",
    "\n",
    "  elif _is_callable_object(fn):\n",
    "\n",
    "    fn = fn.__call__\n",
    "\n",
    "  elif not callable(fn):\n",
    "\n",
    "    raise TypeError(\n",
    "\n",
    "        'fn should be a function-like object, but is of type {}.'.format(\n",
    "\n",
    "            type(fn)))\n",
    "\n",
    "  return tf_inspect.getfullargspec(fn).varkw is not None\n",
    "\n",
    "\n",
    "\n",
    "\n",
    "\n",
    "def get_func_name(func):\n",
    "\n",
    "  \"\"\"Returns name of passed callable.\"\"\"\n",
    "\n",
    "  _, func = tf_decorator.unwrap(func)\n",
    "\n",
    "  if callable(func):\n",
    "\n",
    "    if tf_inspect.isfunction(func):\n",
    "\n",
    "      return func.__name__\n",
    "\n",
    "    elif tf_inspect.ismethod(func):\n",
    "\n",
    "      return '%s.%s' % (six.get_method_self(func).__class__.__name__,\n",
    "\n",
    "                        six.get_method_function(func).__name__)\n",
    "\n",
    "    else:  # Probably a class instance with __call__\n",
    "\n",
    "      return str(type(func))\n",
    "\n",
    "  else:\n",
    "\n",
    "    raise ValueError('Argument must be callable')\n",
    "\n",
    "\n",
    "\n",
    "\n",
    "\n",
    "def get_func_code(func):\n",
    "\n",
    "  \"\"\"Returns func_code of passed callable, or None if not available.\"\"\"\n",
    "\n",
    "  _, func = tf_decorator.unwrap(func)\n",
    "\n",
    "  if callable(func):\n",
    "\n",
    "    if tf_inspect.isfunction(func) or tf_inspect.ismethod(func):\n",
    "\n",
    "      return six.get_function_code(func)\n",
    "\n",
    "    # Since the object is not a function or method, but is a callable, we will\n",
    "\n",
    "    # try to access the __call__method as a function.  This works with callable\n",
    "\n",
    "    # classes but fails with functool.partial objects despite their __call__\n",
    "\n",
    "    # attribute.\n",
    "\n",
    "    try:\n",
    "\n",
    "      return six.get_function_code(func.__call__)\n",
    "\n",
    "    except AttributeError:\n",
    "\n",
    "      return None\n",
    "\n",
    "  else:\n",
    "\n",
    "    raise ValueError('Argument must be callable')\n",
    "\n",
    "\n",
    "\n",
    "\n",
    "\n",
    "_rewriter_config_optimizer_disabled = None\n",
    "\n",
    "\n",
    "\n",
    "\n",
    "\n",
    "def get_disabled_rewriter_config():\n",
    "\n",
    "  global _rewriter_config_optimizer_disabled\n",
    "\n",
    "  if _rewriter_config_optimizer_disabled is None:\n",
    "\n",
    "    config = config_pb2.ConfigProto()\n",
    "\n",
    "    rewriter_config = config.graph_options.rewrite_options\n",
    "\n",
    "    rewriter_config.disable_meta_optimizer = True\n",
    "\n",
    "    _rewriter_config_optimizer_disabled = config.SerializeToString()\n",
    "\n",
    "  return _rewriter_config_optimizer_disabled"
   ]
  },
  {
   "cell_type": "code",
   "execution_count": null,
   "metadata": {},
   "outputs": [],
   "source": [
    "! pip install tensorflow_ranking"
   ]
  },
  {
   "cell_type": "code",
   "execution_count": null,
   "metadata": {},
   "outputs": [],
   "source": [
    "import tensorflow as tf\n",
    "\n",
    "#tf.enable_eager_execution()\n",
    "#tf.executing_eagerly()"
   ]
  },
  {
   "cell_type": "code",
   "execution_count": null,
   "metadata": {},
   "outputs": [],
   "source": [
    "import tensorflow_ranking as tfr"
   ]
  },
  {
   "cell_type": "code",
   "execution_count": null,
   "metadata": {},
   "outputs": [],
   "source": []
  }
 ],
 "metadata": {
  "anaconda-cloud": {},
  "kernelspec": {
   "display_name": "Python 3",
   "language": "python",
   "name": "python3"
  },
  "language_info": {
   "codemirror_mode": {
    "name": "ipython",
    "version": 3
   },
   "file_extension": ".py",
   "mimetype": "text/x-python",
   "name": "python",
   "nbconvert_exporter": "python",
   "pygments_lexer": "ipython3",
   "version": "3.6.8"
  }
 },
 "nbformat": 4,
 "nbformat_minor": 1
}
